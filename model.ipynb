{
 "cells": [
  {
   "cell_type": "code",
   "execution_count": 2,
   "metadata": {},
   "outputs": [
    {
     "name": "stdout",
     "output_type": "stream",
     "text": [
      "Found 2723 images belonging to 2 classes.\n",
      "Found 549 images belonging to 2 classes.\n"
     ]
    }
   ],
   "source": [
    "import tensorflow\n",
    "\n",
    "from tensorflow.keras.preprocessing.image import ImageDataGenerator\n",
    "import tensorflow as tf\n",
    "\n",
    "\n",
    "# Apply data augmentation\n",
    "train_datagen = ImageDataGenerator(\n",
    "      rescale=1./255,\n",
    "      rotation_range=40,\n",
    "      width_shift_range=0.2,\n",
    "      height_shift_range=0.2,\n",
    "      shear_range=0.2,\n",
    "      zoom_range=0.2,\n",
    "      horizontal_flip=True,\n",
    "      fill_mode='nearest')\n",
    "\n",
    "validation_datagen = ImageDataGenerator(rescale=1/255)\n",
    "\n",
    "\n",
    "\n",
    "\n",
    "\n",
    "\n",
    "# Flow training images in batches of 128 using train_datagen generator\n",
    "train_generator = train_datagen.flow_from_directory(\n",
    "        \"C:\\\\Users\\\\Sidho\\\\OneDrive\\\\Desktop\\\\cop\\\\graphics\\\\Data\",  # This is the source directory for training images\n",
    "        target_size=(300, 300),  # All images will be resized to 300x300\n",
    "\n",
    "        # Since we use binary_crossentropy loss, we need binary labels\n",
    "        class_mode='binary')\n",
    "\n",
    "# Flow training images in batches of 128 using train_datagen generator\n",
    "validation_generator = validation_datagen.flow_from_directory(\n",
    "        \"C:\\\\Users\\\\Sidho\\\\OneDrive\\\\Desktop\\\\cop\\\\graphics\\\\Data_validation\",  # This is the source directory for validation images\n",
    "        target_size=(300, 300),  # All images will be resized to 300x300\n",
    "\n",
    "        # Since we use binary_crossentropy loss, we need binary labels\n",
    "        class_mode='binary')\n",
    "\n",
    "\n"
   ]
  },
  {
   "cell_type": "code",
   "execution_count": 4,
   "metadata": {},
   "outputs": [
    {
     "name": "stdout",
     "output_type": "stream",
     "text": [
      "Found 2723 images belonging to 2 classes.\n",
      "Found 129 images belonging to 2 classes.\n"
     ]
    }
   ],
   "source": [
    "import tensorflow\n",
    "\n",
    "from tensorflow.keras.preprocessing.image import ImageDataGenerator\n",
    "import tensorflow as tf\n",
    "\n",
    "\n",
    "# Apply data augmentation\n",
    "train_datagen = ImageDataGenerator(\n",
    "      rescale=1./255,\n",
    "      rotation_range=40,\n",
    "      width_shift_range=0.2,\n",
    "      height_shift_range=0.2,\n",
    "      shear_range=0.2,\n",
    "      zoom_range=0.2,\n",
    "      horizontal_flip=True,\n",
    "      fill_mode='nearest')\n",
    "\n",
    "validation_datagen = ImageDataGenerator(rescale=1/255)\n",
    "\n",
    "\n",
    "\n",
    "\n",
    "\n",
    "\n",
    "# Flow training images in batches of 128 using train_datagen generator\n",
    "train_generator = train_datagen.flow_from_directory(\n",
    "        \"C:\\\\Users\\\\Sidho\\\\OneDrive\\\\Desktop\\\\cop\\\\graphics\\\\Data\",  # This is the source directory for training images\n",
    "        target_size=(300, 300),  # All images will be resized to 300x300\n",
    "\n",
    "        # Since we use binary_crossentropy loss, we need binary labels\n",
    "        class_mode='binary')\n",
    "\n",
    "# Flow training images in batches of 128 using train_datagen generator\n",
    "validation_generator = validation_datagen.flow_from_directory(\n",
    "        \"C:\\\\Users\\\\Sidho\\\\OneDrive\\\\Desktop\\\\cop\\\\graphics\\\\Data_validation\",  # This is the source directory for validation images\n",
    "        target_size=(300, 300),  # All images will be resized to 300x300\n",
    "\n",
    "        # Since we use binary_crossentropy loss, we need binary labels\n",
    "        class_mode='binary')\n",
    "\n",
    "\n"
   ]
  },
  {
   "cell_type": "code",
   "execution_count": 3,
   "metadata": {},
   "outputs": [
    {
     "name": "stdout",
     "output_type": "stream",
     "text": [
      "WARNING:tensorflow:`input_shape` is undefined or non-square, or `rows` is not in [96, 128, 160, 192, 224]. Weights for input shape (224, 224) will be loaded as the default.\n"
     ]
    }
   ],
   "source": [
    "base_model = tf.keras.applications.MobileNetV2(input_shape=(300,300,3),\n",
    "                                               include_top=False,\n",
    "                                               weights='imagenet')"
   ]
  },
  {
   "cell_type": "code",
   "execution_count": 4,
   "metadata": {},
   "outputs": [],
   "source": [
    "base_model.trainable = False"
   ]
  },
  {
   "cell_type": "code",
   "execution_count": null,
   "metadata": {},
   "outputs": [],
   "source": []
  },
  {
   "cell_type": "code",
   "execution_count": 5,
   "metadata": {},
   "outputs": [],
   "source": [
    "# Build the model\n",
    "model = tf.keras.models.Sequential([\n",
    "    base_model,\n",
    "    # # Note the input shape is the desired size of the image 300x300 with 3 bytes color\n",
    "    # # This is the first convolution\n",
    "    tf.keras.layers.GlobalAveragePooling2D(),\n",
    "    #tf.keras.layers.Conv2D(64, (3,3), activation='relu', padding='same',input_shape=(300, 300)),\n",
    "   # tf.keras.layers.MaxPooling2D(2, 2),\n",
    "    # # The second convolution\n",
    "    # # The third convolution\n",
    "    # tf.keras.layers.Conv2D(64, (3,3), activation='relu'),\n",
    "    # tf.keras.layers.MaxPooling2D(2,2),\n",
    "    # # The fourth convolution\n",
    "    # tf.keras.layers.Conv2D(64, (3,3), activation='relu'),\n",
    "    # tf.keras.layers.MaxPooling2D(2,2),\n",
    "    # # The fifth convolution\n",
    "    # tf.keras.layers.Conv2D(64, (3,3), activation='relu'),\n",
    "    # tf.keras.layers.MaxPooling2D(2,2),\n",
    "    # # Flatten the results to feed into a DNN\n",
    "    tf.keras.layers.Flatten(),\n",
    "    # # 512 neuron hidden layer\n",
    "    tf.keras.layers.Dense(512, activation='relu'),\n",
    "    # Only 1 output neuron. It will contain a value from 0-1 where 0 for 1 class ('horses') and 1 for the other ('humans')\n",
    "    tf.keras.layers.Dense(1, activation='sigmoid')\n",
    "])\n",
    "\n",
    "\n",
    "\n",
    "from tensorflow.keras.optimizers import RMSprop\n",
    "\n",
    "# Set training parameters\n",
    "model.compile(loss='binary_crossentropy',\n",
    "              optimizer=RMSprop(),\n",
    "              metrics=['accuracy'])\n",
    "\n"
   ]
  },
  {
   "cell_type": "code",
   "execution_count": 7,
   "metadata": {},
   "outputs": [
    {
     "name": "stdout",
     "output_type": "stream",
     "text": [
      "Epoch 1/8\n",
      "45/45 [==============================] - 111s 2s/step - loss: 0.2591 - accuracy: 0.8965 - val_loss: 1.2085 - val_accuracy: 0.5920\n",
      "Epoch 2/8\n",
      "45/45 [==============================] - 103s 2s/step - loss: 0.2602 - accuracy: 0.8816 - val_loss: 1.0020 - val_accuracy: 0.6029\n",
      "Epoch 3/8\n",
      "45/45 [==============================] - 119s 3s/step - loss: 0.2373 - accuracy: 0.8910 - val_loss: 0.8389 - val_accuracy: 0.6521\n",
      "Epoch 4/8\n",
      "45/45 [==============================] - 102s 2s/step - loss: 0.2167 - accuracy: 0.9079 - val_loss: 1.0322 - val_accuracy: 0.6375\n",
      "Epoch 5/8\n",
      "45/45 [==============================] - 120s 3s/step - loss: 0.2113 - accuracy: 0.9229 - val_loss: 1.3002 - val_accuracy: 0.5883\n",
      "Epoch 6/8\n",
      "45/45 [==============================] - 104s 2s/step - loss: 0.2239 - accuracy: 0.9181 - val_loss: 1.2536 - val_accuracy: 0.5938\n",
      "Epoch 7/8\n",
      "45/45 [==============================] - 93s 2s/step - loss: 0.2141 - accuracy: 0.9227 - val_loss: 1.0882 - val_accuracy: 0.6284\n",
      "Epoch 8/8\n",
      "45/45 [==============================] - 104s 2s/step - loss: 0.1857 - accuracy: 0.9257 - val_loss: 1.0611 - val_accuracy: 0.6321\n"
     ]
    }
   ],
   "source": [
    "\n",
    "\n",
    "\n",
    "\n",
    "# Train the model\n",
    "history = model.fit(\n",
    "      train_generator,\n",
    "      steps_per_epoch=45,\n",
    "      epochs = 8,\n",
    "      verbose=1,\n",
    "      validation_data = validation_generator)"
   ]
  },
  {
   "cell_type": "code",
   "execution_count": 8,
   "metadata": {},
   "outputs": [],
   "source": [
    "model.save(\"thief detector.h5\")"
   ]
  },
  {
   "cell_type": "code",
   "execution_count": 78,
   "metadata": {},
   "outputs": [
    {
     "name": "stdout",
     "output_type": "stream",
     "text": [
      "1/1 [==============================] - 0s 70ms/step\n",
      "[[0.70628655]]\n"
     ]
    }
   ],
   "source": [
    "import numpy\n",
    "\n",
    "img_width, img_height = 300, 300\n",
    "\n",
    "#\"C:\\Users\\Sidho\\OneDrive\\Desktop\\cop\\graphics\\thief.jpeg\"\n",
    "#\"C:\\Users\\Sidho\\OneDrive\\Desktop\\cop\\graphics\\trials_thief\\thief.jpeg\"\n",
    "img = tf.keras.preprocessing.image.load_img(\"C:\\\\Users\\\\Sidho\\\\OneDrive\\\\Desktop\\\\cop\\\\graphics\\\\thiefs//thief_2.jpeg\", target_size=(img_width, img_height,3))\n",
    "img = tf.keras.preprocessing.image.img_to_array(img)\n",
    "img = numpy.expand_dims(img, axis=0)\n",
    "t = model.predict(img)\n",
    "print(t*100)"
   ]
  }
 ],
 "metadata": {
  "kernelspec": {
   "display_name": "Python 3",
   "language": "python",
   "name": "python3"
  },
  "language_info": {
   "codemirror_mode": {
    "name": "ipython",
    "version": 3
   },
   "file_extension": ".py",
   "mimetype": "text/x-python",
   "name": "python",
   "nbconvert_exporter": "python",
   "pygments_lexer": "ipython3",
   "version": "3.10.5"
  },
  "orig_nbformat": 4
 },
 "nbformat": 4,
 "nbformat_minor": 2
}
